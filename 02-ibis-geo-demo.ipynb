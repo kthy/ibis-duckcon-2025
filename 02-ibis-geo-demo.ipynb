{
 "cells": [
  {
   "cell_type": "markdown",
   "id": "3428b293-0d27-4658-b323-fb38cbc1495d",
   "metadata": {},
   "source": [
    "## Ibis and DuckDB geospatial demo\n",
    "\n",
    "```bash\n",
    "pip install 'ibis-framework[duckdb,geospatial]'\n",
    "```"
   ]
  },
  {
   "cell_type": "code",
   "execution_count": null,
   "id": "61a9f1f8-1f98-4000-af8a-75ba8e06cd75",
   "metadata": {},
   "outputs": [],
   "source": [
    "import ibis\n",
    "from ibis import _\n",
    "\n",
    "con = ibis.duckdb.connect(extensions=['spatial'])"
   ]
  },
  {
   "cell_type": "code",
   "execution_count": null,
   "id": "79ff551f-9caf-447c-9a98-f6f680a606bb",
   "metadata": {},
   "outputs": [],
   "source": [
    "# look into type infrastructure\n",
    "url = (\n",
    "    \"s3://overturemaps-us-west-2/release/2025-01-22.0/theme=base/type=infrastructure/*\"\n",
    ")\n",
    "t = con.read_parquet(url, table_name=\"infra-data\")\n",
    "t"
   ]
  },
  {
   "cell_type": "code",
   "execution_count": null,
   "id": "0c28e27a-0c86-4bf1-b42a-76dffdfc7a26",
   "metadata": {},
   "outputs": [],
   "source": [
    "expr = t.filter(\n",
    "    _.bbox.xmin >  4.728756,\n",
    "    _.bbox.ymin > 52.303596,\n",
    "    _.bbox.xmax < 5.046438,\n",
    "    _.bbox.ymax < 52.431064,\n",
    "    ).select([\"subtype\", \"class\", \"geometry\", \"names\"])\n",
    "expr"
   ]
  },
  {
   "cell_type": "code",
   "execution_count": null,
   "id": "ee07d68c-c68d-4e98-9d8b-d70ef504d7ca",
   "metadata": {},
   "outputs": [],
   "source": [
    "ibis.options.interactive = True\n",
    "ibis.options.repr.interactive.max_rows = 15"
   ]
  },
  {
   "cell_type": "code",
   "execution_count": null,
   "id": "d6245edd-4e54-44aa-be0b-e26af05f0d29",
   "metadata": {},
   "outputs": [],
   "source": [
    "ams_infra = con.read_parquet(\"infra-amsterdam.geoparquet\", table_name = \"ams_infra\")\n",
    "ams_infra.head()"
   ]
  },
  {
   "cell_type": "code",
   "execution_count": null,
   "id": "838a354b-ee08-44c1-9d4b-442a68b82d7b",
   "metadata": {},
   "outputs": [],
   "source": [
    "# Rename column for convenience\n",
    "ams_infra = ams_infra.rename(\n",
    "                infra_class=\"class\"\n",
    "            ).select([\"subtype\", \"infra_class\", \"geometry\"])"
   ]
  },
  {
   "cell_type": "code",
   "execution_count": null,
   "id": "a4831f4a-01e2-498f-a08e-41608e3d9384",
   "metadata": {},
   "outputs": [],
   "source": [
    "ams_infra[[\"subtype\"]].distinct()"
   ]
  },
  {
   "cell_type": "code",
   "execution_count": null,
   "id": "41f9f55f-0101-4538-936f-19b2319808e0",
   "metadata": {},
   "outputs": [],
   "source": [
    "tourist_useful = ams_infra.filter(\n",
    "    _.subtype.isin([\"pedestrian\", \"water\"]))"
   ]
  },
  {
   "cell_type": "code",
   "execution_count": null,
   "id": "ded9694f-aa4d-4f88-b5e2-114756ae917c",
   "metadata": {},
   "outputs": [],
   "source": [
    "ibis.to_sql(tourist_useful)"
   ]
  },
  {
   "cell_type": "code",
   "execution_count": null,
   "id": "5f293af3-b2fe-4322-a00d-4457fe31c7c1",
   "metadata": {},
   "outputs": [],
   "source": [
    "tourist_useful[[\"infra_class\"]].distinct()"
   ]
  },
  {
   "cell_type": "code",
   "execution_count": null,
   "id": "6e2e5ed0-46d4-4a6b-94ae-0448a6265d57",
   "metadata": {},
   "outputs": [],
   "source": [
    "tourist_useful = tourist_useful.filter(\n",
    "        _.infra_class.isin(\n",
    "            [\n",
    "                \"drinking_water\",\n",
    "                \"toilets\",\n",
    "                \"bench\",\n",
    "                \"viewpoint\",\n",
    "                \"vending_machine\",\n",
    "                \"atm\",\n",
    "            ]\n",
    "        )\n",
    "    )\n"
   ]
  },
  {
   "cell_type": "code",
   "execution_count": null,
   "id": "319a7221-afd6-4b1f-8367-1c98db794a9a",
   "metadata": {},
   "outputs": [],
   "source": [
    "import shapely as shp"
   ]
  },
  {
   "cell_type": "code",
   "execution_count": null,
   "id": "7688588f-acbd-4b69-b2ec-43b80917c471",
   "metadata": {},
   "outputs": [],
   "source": [
    "# we keep it always xy ie lon,lat compat with geopandas\n",
    "lon, lat = 4.881, 52.359 # van Gogh museum"
   ]
  },
  {
   "cell_type": "code",
   "execution_count": null,
   "id": "be27cdcc-63bd-4b5b-bb9c-f080997eb8c4",
   "metadata": {},
   "outputs": [],
   "source": [
    "vg_coords = ibis.literal(shp.Point(lon, lat), type='geometry')\n",
    "vg_coords"
   ]
  },
  {
   "cell_type": "code",
   "execution_count": null,
   "id": "e5808c99-6a2a-4f87-968a-ab035199bf33",
   "metadata": {},
   "outputs": [],
   "source": [
    "#st_transform\n",
    "vg_coords_m = vg_coords.convert(\"EPSG:4326\", \"EPSG:3857\")\n",
    "vg_coords_m"
   ]
  },
  {
   "cell_type": "code",
   "execution_count": null,
   "id": "9558e2bf-9584-4ac6-830f-61fca435e75a",
   "metadata": {},
   "outputs": [],
   "source": [
    "tourist_useful.filter(\n",
    "    tourist_useful.geometry.convert(\n",
    "        \"EPSG:4326\", \"EPSG:3857\").d_within(vg_coords_m, distance=1000),\n",
    ")"
   ]
  },
  {
   "cell_type": "code",
   "execution_count": null,
   "id": "b6ba8c59-2c6e-4a06-a230-ec3dcc3b8b0a",
   "metadata": {},
   "outputs": [],
   "source": [
    "near_vanGogh_no_benches = tourist_useful.filter(\n",
    "    _.geometry.convert(\n",
    "        \"EPSG:4326\", \"EPSG:3857\").d_within(vg_coords_m, distance=1000),\n",
    "    _.infra_class.notin([\"bench\"])\n",
    ")\n",
    "near_vanGogh_no_benches"
   ]
  },
  {
   "cell_type": "code",
   "execution_count": null,
   "id": "76da0ee3-fbb2-451a-b7a0-78c84ccf5e0c",
   "metadata": {},
   "outputs": [],
   "source": [
    "ibis.to_sql(near_vanGogh_no_benches)"
   ]
  },
  {
   "cell_type": "code",
   "execution_count": null,
   "id": "a6ca9324-5af5-448f-878c-b52500aca7f2",
   "metadata": {},
   "outputs": [],
   "source": [
    "near_vanGogh = near_vanGogh_no_benches.mutate( \n",
    "    dist_vanGogh = _.geometry.convert(\n",
    "        \"EPSG:4326\", \"EPSG:3857\").distance(vg_coords_m))"
   ]
  },
  {
   "cell_type": "code",
   "execution_count": null,
   "id": "45b8e3c5-dd10-442f-95e0-8d74cc2b53c8",
   "metadata": {},
   "outputs": [],
   "source": [
    "near_vanGogh.order_by(\"dist_vanGogh\")"
   ]
  },
  {
   "cell_type": "code",
   "execution_count": null,
   "id": "09d006ce-c1e8-4783-b7c7-44660fcdaa12",
   "metadata": {},
   "outputs": [],
   "source": [
    "ams_buildings =  con.read_parquet(\"buildings-amsterdam.geoparquet\", table_name=\"ams_buildings\")\n",
    "ams_buildings.head()"
   ]
  },
  {
   "cell_type": "code",
   "execution_count": null,
   "id": "7aa29643-7a12-4348-95b9-994ec358fd62",
   "metadata": {},
   "outputs": [],
   "source": [
    "build_near_vanGogh = ams_buildings.filter(_.geometry.convert(\n",
    "                    \"EPSG:4326\", \"EPSG:3857\").intersects(\n",
    "                    vg_coords_m.buffer(100))).select(_.subtype,\n",
    "                                                     _.geometry\n",
    "                                                    )\n",
    "build_near_vanGogh"
   ]
  },
  {
   "cell_type": "code",
   "execution_count": null,
   "id": "eb15d5cb-7739-4fad-86d9-9af4565e41f5",
   "metadata": {},
   "outputs": [],
   "source": [
    "import lonboard"
   ]
  },
  {
   "cell_type": "code",
   "execution_count": null,
   "id": "27fd9fd9-5752-4014-b859-b961f6e067ed",
   "metadata": {},
   "outputs": [],
   "source": [
    "from lonboard import Map, ScatterplotLayer, PolygonLayer"
   ]
  },
  {
   "cell_type": "code",
   "execution_count": null,
   "id": "9de1923e-9609-47bf-a1c2-0afb448cfd8d",
   "metadata": {},
   "outputs": [],
   "source": [
    "from lonboard.colormap import apply_categorical_cmap "
   ]
  },
  {
   "cell_type": "code",
   "execution_count": null,
   "id": "6447772b-7c26-4a2c-b8e6-eefe3fe59982",
   "metadata": {},
   "outputs": [],
   "source": [
    "# Use color blind friendly colormap\n",
    "\n",
    "cmap = { \"drinking_water\": [86, 180, 233], # light blue\n",
    "         \"toilets\": [230, 159, 0], # yellowish\n",
    "         \"viewpoint\":[0, 0, 0], # black\n",
    "         \"vending_machine\": [0, 114, 178], # blue \n",
    "         \"atm\":[0, 158, 115],} # green-ish"
   ]
  },
  {
   "cell_type": "code",
   "execution_count": null,
   "id": "deb74e59-e380-4176-a47c-29e304132f38",
   "metadata": {},
   "outputs": [],
   "source": [
    "colors = apply_categorical_cmap(near_vanGogh.infra_class.to_pyarrow(),\n",
    "                              cmap=cmap)"
   ]
  },
  {
   "cell_type": "code",
   "execution_count": null,
   "id": "8193b198-38c1-4d9e-8146-d6a8998d6305",
   "metadata": {},
   "outputs": [],
   "source": [
    "import warnings\n",
    "warnings.filterwarnings('ignore')"
   ]
  },
  {
   "cell_type": "code",
   "execution_count": null,
   "id": "f8ec9769-f5f6-45ce-b0b2-445873703830",
   "metadata": {},
   "outputs": [],
   "source": [
    "points_interest = ScatterplotLayer(\n",
    "    table = near_vanGogh,\n",
    "    get_fill_color=colors,\n",
    "    get_radius = 15\n",
    ")\n",
    "\n",
    "buildings = PolygonLayer(\n",
    "    table = build_near_vanGogh, \n",
    "    get_fill_color = [204, 121, 167],\n",
    "    opacity=0.3\n",
    ")\n",
    "\n",
    "m = Map(\n",
    "    [\n",
    "        points_interest,\n",
    "        buildings\n",
    "    ],\n",
    "    view_state={\"longitude\": 4.881, \"latitude\": 52.359, \"zoom\": 14, \"pitch\": 45},\n",
    "    basemap_style=lonboard.basemap.CartoBasemap.DarkMatterNoLabels\n",
    ")\n",
    "m"
   ]
  },
  {
   "cell_type": "code",
   "execution_count": null,
   "id": "688eb667-8fc8-4f3e-bc47-7a2a2e680710",
   "metadata": {},
   "outputs": [],
   "source": []
  },
  {
   "cell_type": "markdown",
   "id": "9724a910-e20c-4529-8cad-7e99f31e51a0",
   "metadata": {},
   "source": [
    "Explore in [Fused](https://www.fused.io/workbench/catalog/Ibis_DuckDB_Overturemaps-ca8e306b-a05a-4d48-ab40-537edd2586dc)"
   ]
  }
 ],
 "metadata": {
  "kernelspec": {
   "display_name": ".venv",
   "language": "python",
   "name": "python3"
  },
  "language_info": {
   "codemirror_mode": {
    "name": "ipython",
    "version": 3
   },
   "file_extension": ".py",
   "mimetype": "text/x-python",
   "name": "python",
   "nbconvert_exporter": "python",
   "pygments_lexer": "ipython3",
   "version": "3.12.8"
  }
 },
 "nbformat": 4,
 "nbformat_minor": 5
}
