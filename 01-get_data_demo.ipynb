{
 "cells": [
  {
   "cell_type": "code",
   "execution_count": null,
   "id": "47397dc1-6a36-4696-947b-66d106efd6ae",
   "metadata": {},
   "outputs": [],
   "source": [
    "import ibis\n",
    "from ibis import _\n",
    "\n",
    "con = ibis.duckdb.connect(extensions=['spatial']) "
   ]
  },
  {
   "cell_type": "markdown",
   "id": "bef9b940-74d8-4a88-993f-3ae6c8977aa2",
   "metadata": {},
   "source": [
    "## get infra data"
   ]
  },
  {
   "cell_type": "code",
   "execution_count": null,
   "id": "6c9e6209-e207-4eaf-bc1d-778295c19e20",
   "metadata": {},
   "outputs": [],
   "source": [
    "# look into type infrastructure\n",
    "url_infra = (\n",
    "    \"s3://overturemaps-us-west-2/release/2025-01-22.0/theme=base/type=infrastructure/*\"\n",
    ")\n",
    "t_infra = con.read_parquet(url_infra, table_name=\"ams-infra\")"
   ]
  },
  {
   "cell_type": "code",
   "execution_count": null,
   "id": "137f2301-7a39-472b-a253-0e88af7de5d4",
   "metadata": {},
   "outputs": [],
   "source": [
    "expr_infra = t_infra.filter(\n",
    "    _.bbox.xmin >  4.728756,\n",
    "    _.bbox.ymin > 52.303596,\n",
    "    _.bbox.xmax < 5.046438,\n",
    "    _.bbox.ymax < 52.431064,\n",
    "    ).select([\"subtype\", \"class\", \"geometry\", \"names\"])"
   ]
  },
  {
   "cell_type": "code",
   "execution_count": null,
   "id": "e3718051-cc56-4c5f-b37b-695598d81834",
   "metadata": {},
   "outputs": [],
   "source": [
    "con.to_parquet(expr_infra, \"infra-amsterdam.geoparquet\")"
   ]
  },
  {
   "cell_type": "markdown",
   "id": "2abfcbd1-c67f-4640-9ef7-6a32ff5d2743",
   "metadata": {},
   "source": [
    "## get buildings data"
   ]
  },
  {
   "cell_type": "code",
   "execution_count": null,
   "id": "9675d0c4-34ed-4602-a66f-0c5de8c76057",
   "metadata": {},
   "outputs": [],
   "source": [
    "# look into type infrastructure\n",
    "url_buildings = (\n",
    "    \"s3://overturemaps-us-west-2/release/2025-01-22.0/theme=buildings/type=building/*\"\n",
    ")\n",
    "t_buildings = con.read_parquet(url_buildings, table_name=\"ams-buildings\")"
   ]
  },
  {
   "cell_type": "code",
   "execution_count": null,
   "id": "7813a14a-1dc4-4565-9583-0afe1223796c",
   "metadata": {},
   "outputs": [],
   "source": [
    "t_buildings"
   ]
  },
  {
   "cell_type": "code",
   "execution_count": null,
   "id": "47e7054a-74d8-4fa5-bfab-e70edb04d965",
   "metadata": {},
   "outputs": [],
   "source": [
    "expr_buildings = t_buildings.filter(\n",
    "    _.bbox.xmin >  4.728756,\n",
    "    _.bbox.ymin > 52.303596,\n",
    "    _.bbox.xmax < 5.046438,\n",
    "    _.bbox.ymax < 52.431064,\n",
    "    ).select([\"subtype\", \"class\", \"geometry\", \"height\"])"
   ]
  },
  {
   "cell_type": "code",
   "execution_count": null,
   "id": "16b4d90a-680c-4165-bd72-e91ab79449db",
   "metadata": {},
   "outputs": [],
   "source": [
    "con.to_parquet(expr_buildings, \"buildings-amsterdam.geoparquet\")"
   ]
  }
 ],
 "metadata": {
  "kernelspec": {
   "display_name": ".venv",
   "language": "python",
   "name": "python3"
  },
  "language_info": {
   "codemirror_mode": {
    "name": "ipython",
    "version": 3
   },
   "file_extension": ".py",
   "mimetype": "text/x-python",
   "name": "python",
   "nbconvert_exporter": "python",
   "pygments_lexer": "ipython3",
   "version": "3.12.8"
  }
 },
 "nbformat": 4,
 "nbformat_minor": 5
}
